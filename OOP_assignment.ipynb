{
  "nbformat": 4,
  "nbformat_minor": 0,
  "metadata": {
    "colab": {
      "name": "OOP_assignment.ipynb",
      "provenance": [],
      "include_colab_link": true
    },
    "kernelspec": {
      "name": "python3",
      "display_name": "Python 3"
    },
    "language_info": {
      "name": "python"
    }
  },
  "cells": [
    {
      "cell_type": "markdown",
      "metadata": {
        "id": "view-in-github",
        "colab_type": "text"
      },
      "source": [
        "<a href=\"https://colab.research.google.com/github/edwige3/AMMI-1/blob/main/OOP_assignment.ipynb\" target=\"_parent\"><img src=\"https://colab.research.google.com/assets/colab-badge.svg\" alt=\"Open In Colab\"/></a>"
      ]
    },
    {
      "cell_type": "markdown",
      "source": [
        "# Instructions:\n",
        "\n",
        "You have to submit the Notebook before the deadline: \n",
        "\n",
        "*   Before you start go the menu in the upper left corner and click file->Save a copy in Drive.\n",
        "*   Modify (add your name) the notebook name to **firstname_lastname_Python_Tutorial (OOP).ipynb**."
      ],
      "metadata": {
        "id": "qFT_NRszVT_4"
      }
    },
    {
      "cell_type": "markdown",
      "source": [
        "This assignement has 4 exercises covering python OOP notions (classes, objects, attributes, methods and inheritance)"
      ],
      "metadata": {
        "id": "ClNdeJxos95D"
      }
    },
    {
      "cell_type": "markdown",
      "source": [
        "## Exercise 1: Class definition and manipulation\n",
        "\n",
        "\n",
        "\n",
        "1.   define a class Person that takes three paremeters **firstName, lastName and age** and use them to initialise three attributes of the class Person namely firstname, lastname and age\n",
        "2.   write a class method **introduceMySelf** that print:\n",
        "\n",
        "    *   My firstname is **firstname**\n",
        "    *   My lastname is **lastName**\n",
        "    *   I'm **age** year old\n",
        "3.   Write a class method **ageGroup** which  return:\n",
        "    *  **young** if **age** <= 18\n",
        "    *  **adult** if **age** <= 45\n",
        "    *  **old** if **age** > 45\n",
        "\n",
        "\n"
      ],
      "metadata": {
        "id": "VExlu4BqVnGm"
      }
    },
    {
      "cell_type": "code",
      "source": [
        "##### WRITE YOUR CODE HERE #####\n",
        "#### END CODE ####"
      ],
      "metadata": {
        "id": "959nmuLJVZB3"
      },
      "execution_count": null,
      "outputs": []
    },
    {
      "cell_type": "markdown",
      "source": [
        "## Exercise 2: Object instantiation:\n",
        "\n",
        "1.  Instantiate an object person of type Person (the previous class you defined)\n",
        "2.  print the firstname, lastname and age attributes of the object person\n",
        "3. call the class methods **introduceMySelf** and **ageGroup** "
      ],
      "metadata": {
        "id": "xgikec_1c7k6"
      }
    },
    {
      "cell_type": "code",
      "source": [
        "##### WRITE YOUR CODE HERE #####\n",
        "#### END CODE ####"
      ],
      "metadata": {
        "id": "3XRrtT5ufGJu"
      },
      "execution_count": null,
      "outputs": []
    },
    {
      "cell_type": "markdown",
      "source": [
        "# Exercise 3: Private attributes and methods\n",
        "\n",
        "1.  Redifine the previous class Person and make the attribute **age** private(call this class PrivatePerson to avoid confusion later)\n",
        "2.  make the method **ageGroup** also private\n",
        "3. Instantiate an object private_person of type PrivatePerson\n",
        "4.  call the method **ageGroup** of private_person"
      ],
      "metadata": {
        "id": "9MDNrnuHluBY"
      }
    },
    {
      "cell_type": "code",
      "source": [
        "##### WRITE YOUR CODE HERE #####\n",
        "#### END CODE ####"
      ],
      "metadata": {
        "id": "2LohZIGwmebZ"
      },
      "execution_count": null,
      "outputs": []
    },
    {
      "cell_type": "markdown",
      "source": [
        "## Exercise 4: Inheritance\n",
        "\n",
        "1. Define a class **Student** which inherit from the class Person\n",
        "2. Add the class attributes **schoolName and courses** to the class **Student** (courses is a list)\n",
        "3. Define  **getCourses** which return the courses taken by a student\n",
        "4. Redifine the class method **introduceMySelf** to add the following print:\n",
        "  *  I'm studying at **schoolName**\n",
        "\n",
        "5. Instantiate an object **student** of type Student \n",
        "6. call methods **introduceMySelf** and **getcourse**"
      ],
      "metadata": {
        "id": "omzIf5NDmv69"
      }
    },
    {
      "cell_type": "code",
      "source": [
        "##### WRITE YOUR CODE HERE #####\n",
        "#### END CODE ####"
      ],
      "metadata": {
        "id": "fAhvqXwioBPz"
      },
      "execution_count": null,
      "outputs": []
    },
    {
      "cell_type": "code",
      "source": [
        ""
      ],
      "metadata": {
        "id": "JocoPf3bHA0G"
      },
      "execution_count": null,
      "outputs": []
    }
  ]
}